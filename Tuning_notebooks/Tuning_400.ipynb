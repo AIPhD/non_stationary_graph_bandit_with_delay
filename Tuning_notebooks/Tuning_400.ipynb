{
 "cells": [
  {
   "cell_type": "markdown",
   "metadata": {
    "id": "BrLwxqhzU0sA"
   },
   "source": [
    "## WARNING !\n",
    "All the questionable decisions i have marked with comment #TODO\n",
    "to think about them and discuss.\n"
   ]
  },
  {
   "cell_type": "code",
   "execution_count": 1,
   "metadata": {
    "id": "MF2I5iLWTJ4Q"
   },
   "outputs": [],
   "source": [
    "#Mine - Synthetic"
   ]
  },
  {
   "cell_type": "code",
   "execution_count": 3,
   "metadata": {
    "id": "ZvabeLzbTJ4R"
   },
   "outputs": [],
   "source": [
    "import itertools\n",
    "import datetime\n",
    "\n",
    "import numpy as np\n",
    "import matplotlib.pyplot as plt\n",
    "import networkx as nx\n",
    "import pylab\n",
    "import cvxpy as cp\n",
    "from scipy.linalg import eigh\n",
    "from collections import OrderedDict\n",
    "import pandas as pd\n",
    "import scipy as sp\n",
    "import seaborn as sns\n",
    "import scipy.stats as stats\n",
    "import random\n",
    "import argparse\n",
    "from time import time\n",
    "import os\n",
    "#from google.colab import files\n",
    "from scipy.sparse import coo_matrix\n",
    "%load_ext autoreload\n",
    "%autoreload 2"
   ]
  },
  {
   "cell_type": "code",
   "execution_count": 4,
   "metadata": {
    "id": "QLMBSl9ZVyTe"
   },
   "outputs": [],
   "source": [
    "np.random.seed(42)"
   ]
  },
  {
   "cell_type": "markdown",
   "metadata": {},
   "source": [
    "## Parameters of experiment"
   ]
  },
  {
   "cell_type": "code",
   "execution_count": 5,
   "metadata": {
    "id": "yyTCw6CJTJ4R"
   },
   "outputs": [],
   "source": [
    "nodes = 10#int(input(\" NODES in the graph : \"  )) #number of arms\n",
    "super_arm_sparsity = 4 #int(input(\" number of chosen arms in the super arm is : \"  )) #number of chosen arms\n",
    "rounds = 5000 #int(input(\" rounds of observation (decision making) : \"  )) # number of rounds of data we create"
   ]
  },
  {
   "cell_type": "code",
   "execution_count": 6,
   "metadata": {},
   "outputs": [],
   "source": [
    "#change points\n",
    "change_points = [0, 1000, 2000, 3000, 4000]"
   ]
  },
  {
   "cell_type": "code",
   "execution_count": 7,
   "metadata": {},
   "outputs": [],
   "source": [
    "# Reasonable parameters I have found xi = 1 * 1e-7, gamma = 0.87"
   ]
  },
  {
   "cell_type": "code",
   "execution_count": 8,
   "metadata": {},
   "outputs": [],
   "source": [
    "# xi = 1e-7 # larger -> more exploration\n",
    "s = super_arm_sparsity\n",
    "# gamma = 0.87 # smaller -> more forgetting / more exploration"
   ]
  },
  {
   "cell_type": "code",
   "execution_count": 9,
   "metadata": {},
   "outputs": [],
   "source": [
    "Delay = 400 #10\n",
    "skiped = 0\n",
    "best_lambda = 0.1"
   ]
  },
  {
   "cell_type": "markdown",
   "metadata": {
    "id": "TU_qCXm3c6sM",
    "tags": []
   },
   "source": [
    "## Useful functions"
   ]
  },
  {
   "cell_type": "markdown",
   "metadata": {
    "id": "ysTx6dHhwgKD"
   },
   "source": [
    "\n",
    "### Create graph"
   ]
  },
  {
   "cell_type": "code",
   "execution_count": 10,
   "metadata": {
    "id": "CeauycqPqo-l"
   },
   "outputs": [],
   "source": [
    "def create_graph(n):\n",
    "    \n",
    "    # This value is chosen so that resulting density of DAG is 0.15\n",
    "    prob_of_edge = 0.25 #float(input(\"* Please enter the probability of having an edge in your random graph:\"  ))\n",
    "    G = nx.gnp_random_graph(n=n, p=prob_of_edge, directed=True, seed=6)\n",
    "    \n",
    "    # Make the graph directed and acyclic\n",
    "#     DAG = nx.DiGraph([(u, v, {'weight': np.random.uniform(low=0.9, high=0.95)}) for (u, v) in G.edges() if u < v])\n",
    "    DAG = nx.DiGraph([(u, v) for (u, v) in G.edges() if u < v])\n",
    "    print('* Is the graph a DAG? ', nx.is_directed_acyclic_graph(DAG))\n",
    "    \n",
    "    # building the adjacency numpy matrix of the graph\n",
    "    edge_list = list(DAG.edges())\n",
    "    number_of_edges = len(edge_list)\n",
    "    \n",
    "    w = np.zeros((n, n)) # the numpy adjacency matrix with all edge weights equal to 1    \n",
    "    for edge in edge_list:\n",
    "        w[edge[0], edge[1]] = np.random.uniform(low=0.4, high=0.7)\n",
    "    \n",
    "    if np.count_nonzero(w) == number_of_edges:\n",
    "        print('The adjacency matrix is correctly set as a randomly picked DAG!')\n",
    "        \n",
    "    temp1 = np.eye(w.shape[0]) - w\n",
    "    C = np.linalg.inv(temp1)\n",
    "    C_axis_0_sum = np.sum(C, axis=0)\n",
    "    \n",
    "    print('the elements of the vector C are:  ', np.transpose(C_axis_0_sum))\n",
    "    return w , C"
   ]
  },
  {
   "cell_type": "code",
   "execution_count": 11,
   "metadata": {},
   "outputs": [],
   "source": [
    "def change_point_index(time_point):\n",
    "    \"\"\"Return index of last happened change point by the time `time_point`\"\"\"\n",
    "    global change_points\n",
    "    global rounds\n",
    "    assert time_point >= change_points[0], f\"Time point smaller than first change point {change_points[0]}\"\n",
    "    assert time_point <= rounds, f\"Time point larger than total num of rounds {rounds}\"\n",
    "    \n",
    "    for ind, ch_p in enumerate(change_points):\n",
    "        if time_point < ch_p:\n",
    "            return ind - 1\n",
    "    else:\n",
    "        return len(change_points) - 1"
   ]
  },
  {
   "cell_type": "markdown",
   "metadata": {
    "id": "0F0Ih9m-wczr"
   },
   "source": [
    "### Rewards"
   ]
  },
  {
   "cell_type": "code",
   "execution_count": 12,
   "metadata": {
    "id": "ngHyCYK1TJ4S"
   },
   "outputs": [],
   "source": [
    "def instantaneous_Bernoulli_rewards(high_interval, low_interval):\n",
    "    mean_b_gt_Bern = np.zeros((len(change_points), nodes, 1))\n",
    "    B = np.zeros((nodes, rounds))\n",
    "    \n",
    "\n",
    "    for i in range(0, len(change_points)):\n",
    "        # For s nodes chose mean values higher than for others.\n",
    "        high_reward_nodes = [(ind + i*s) % nodes for ind in range(s)]\n",
    "        \n",
    "        print(high_reward_nodes)\n",
    "        low_reward_nodes = np.array([i for i in range(nodes) if i not in high_reward_nodes])\n",
    "        \n",
    "        # Chose means uniformly at random\n",
    "        mean_b_gt_Bern[i, high_reward_nodes, :] = np.random.uniform(\n",
    "            low=high_interval[0], high=high_interval[1], size=(len(high_reward_nodes), 1)\n",
    "        ) \n",
    "        \n",
    "        \n",
    "        mean_b_gt_Bern[i, low_reward_nodes, :] = np.random.uniform(\n",
    "            low=low_interval[0], high=low_interval[1], size=(len(low_reward_nodes), 1)\n",
    "        )\n",
    "        \n",
    "        # Make sure one of the base arms almost reaches high and low ends.\n",
    "        mean_b_gt_Bern[\n",
    "            i, np.random.choice(high_reward_nodes), :\n",
    "        ] = high_interval[1] - np.random.normal(scale=(high_interval[1] - high_interval[0])/20)\n",
    "        \n",
    "        mean_b_gt_Bern[\n",
    "            i, np.random.choice(low_reward_nodes), :\n",
    "        ] = low_interval[0] + np.random.normal(scale=(low_interval[1] - low_interval[0])/20)\n",
    "        \n",
    "    for j in range(rounds):\n",
    "        ch_p_ind = change_point_index(j)\n",
    "        for k in range(nodes):\n",
    "            B[k, j] = np.random.binomial(n=1, p=mean_b_gt_Bern[ch_p_ind, k])\n",
    "    \n",
    "    return B, mean_b_gt_Bern;\n",
    "\t\n",
    "#   function to create the random action X\n",
    "\n",
    "def rand_binary_array(number_of_chosen_arms=super_arm_sparsity, n=nodes): \n",
    "    \n",
    "    arr = np.zeros((n,1))\n",
    "    arr[:(number_of_chosen_arms)] = 1\n",
    "    np.random.shuffle(arr)\n",
    "    return arr\n",
    "\n",
    "def create_random_action(number_of_chosen_arms=super_arm_sparsity, n=rounds):\n",
    "\n",
    "    X = rand_binary_array(number_of_chosen_arms=number_of_chosen_arms)\n",
    "    for i in range(n-1):\n",
    "        temp2 = rand_binary_array(number_of_chosen_arms=number_of_chosen_arms)\n",
    "        X = np.concatenate((X,temp2),axis=1)\n",
    "    return X\n",
    "\t\n",
    "def f_measure_func(x, xgt): #Not read yet\n",
    "    \n",
    "    x=np.where(x!=0,1,0)\n",
    "    xgt=np.where(xgt!=0,1,0)\n",
    "    true_pos = np.count_nonzero(np.multiply(x,xgt))\n",
    "    fals_pos = np.count_nonzero(np.where((x-xgt)>0,1,0))\n",
    "    fals_neg = np.count_nonzero(np.where((xgt-x)>0,1,0))\n",
    "    true_neg = nodes**2 - true_pos - fals_neg - fals_pos\n",
    "    f_measure=true_pos/(true_pos+0.5*(fals_neg+fals_pos))\n",
    "    \n",
    "    return f_measure"
   ]
  },
  {
   "cell_type": "markdown",
   "metadata": {
    "id": "pt1PZ0edwZ8Q"
   },
   "source": [
    "### Graph learning"
   ]
  },
  {
   "cell_type": "code",
   "execution_count": 13,
   "metadata": {
    "id": "aTLpDLH2TJ4U"
   },
   "outputs": [],
   "source": [
    "#................................SEM + L1 graph learning\n",
    "#TODO check real world and that A is not negative\n",
    "def graph_learning(\n",
    "    current_time, A_gt, observ, perturb, nodes = nodes, skiped=skiped, best_lambda=best_lambda, Delay=Delay\n",
    "):\n",
    "\n",
    "    if skiped == 0: \n",
    "        lambda_params = np.array([0.00001,0.0001,0.001,0.01,0.02,0.03,0.04,0.05,0.06,0.07,0.08,0.09,0.10\\\n",
    "                          ,0.2,0.3,0.4,0.5,0.6,0.7,0.8,0.9,1,2,3,4,5,6,7,8,9\\\n",
    "                          ,10,20,30,40,50,60,70,80,90,100,1000,10000,100000,1000000])\n",
    "    elif skiped == 1:\n",
    "        lambda_params = np.asarray([best_lambda])\n",
    "    \n",
    "    # If no current time < Delay then agent has no observations yet. \n",
    "    # Must be > 0 because otherwise indexing works wrong, starts from the end.\n",
    "    time_up_to_delay = max(0, current_time - Delay)\n",
    "    observ = observ[:,:time_up_to_delay] #!\n",
    "    perturb = perturb[:,:time_up_to_delay] #!\n",
    "\n",
    "    error_SEM_L1 = np.ones([lambda_params.shape[0],1])*10000000000000000000\n",
    "    for k in range (lambda_params.shape[0]):\n",
    "        A        = cp.Variable((nodes,nodes))\n",
    "        #TODO When no observations - just minimize the regularizer term.\n",
    "        cost     = (\n",
    "            cp.sum_squares(observ - (A @ observ) - perturb) + lambda_params[k] * cp.atoms.norm1(A) \n",
    "            if time_up_to_delay > 0 \n",
    "            else lambda_params[k]*cp.atoms.norm1(A) \n",
    "        )\n",
    "        obj      = cp.Minimize(cost)\n",
    "        constr   = [cp.diag(A) ==0 , A[:,:] >= 0]\n",
    "        prob     = cp.Problem(obj,constr)\n",
    "        opt_val  = prob.solve()\n",
    "        solution_L1Norm = A.value\n",
    "\n",
    "        error_SEM_L1[k] = np.sum(np.power((A_gt - A.value),2)) / (nodes*nodes) \n",
    "    \n",
    "        if error_SEM_L1[k] <= np.amin(error_SEM_L1):\n",
    "            The_final_solution_SEM_L1 = A.value\n",
    "            solution_threshold_SEM_L1 = np.where(np.absolute(A.value)<\\\n",
    "                                             (0.1*np.amax(np.absolute(A.value))),0,A.value)\n",
    "#             solution_Boolean_SEM_L1 = np.where(solution_threshold_SEM_L1==0,0,1)\n",
    "            best_lambda = lambda_params[k]\n",
    "#             optvalue1 = opt_val\n",
    "\n",
    "    f_measure = f_measure_func(solution_threshold_SEM_L1, A_gt)\n",
    "#     print('the f-measure is : ', f_measure)\n",
    "        \n",
    "    return The_final_solution_SEM_L1, f_measure, best_lambda"
   ]
  },
  {
   "cell_type": "code",
   "execution_count": 14,
   "metadata": {
    "id": "BhU-MsF6TJ4U"
   },
   "outputs": [],
   "source": [
    "\n",
    "# Finding solution new function\n",
    "\n",
    "def Best_action_func_new(A, b, s = super_arm_sparsity):\n",
    "#A --> Estimated A or w_gt\n",
    "#b --> UCB or mean_b_gt[i,:]\n",
    "    \n",
    "    temp_inv        = np.linalg.inv(np.eye(nodes) - A)\n",
    "    b_diag          = np.diagflat(b) \n",
    "    C               = np.matmul(temp_inv, b_diag)\n",
    "#     print(\"C.shape is\", C.shape)\n",
    "    C_axis_0_sum    = np.sum(C,axis=0) \n",
    "#     print(\"C_axis_0_sum.shape is\", C_axis_0_sum.shape)\n",
    "    ind             = np.argsort(C_axis_0_sum,axis=0)[-s:]\n",
    "    x               = np.zeros((nodes,1))\n",
    "    for i in range(ind.shape[0]):\n",
    "        x[ind[i],0] = 1\n",
    "        \n",
    "    if (b == b[0]).all():\n",
    "            np.random.shuffle(x)\n",
    "    \n",
    "    return x\n"
   ]
  },
  {
   "cell_type": "markdown",
   "metadata": {
    "id": "dd_X72crwRv7"
   },
   "source": [
    "### UCB func\n"
   ]
  },
  {
   "cell_type": "code",
   "execution_count": 15,
   "metadata": {
    "id": "ZwxFOyKRTJ4V"
   },
   "outputs": [],
   "source": [
    "\n",
    "# UCB  function as part of decision making strategy\n",
    "\n",
    "# def UCB_func(t, x, T, b_bar, b_hat, b):\n",
    "def UCB_func(t, x, num_plays_state, inst_reward, xi, s, gamma, Delay):\n",
    "    \n",
    "    emp_avg_reward_state_builtin = np.zeros((num_plays_state.shape[0], 1))\n",
    "    UCB_state_builtin = np.ones((num_plays_state.shape[0], 1))\n",
    "    \n",
    "    m_t_gamma = sum([gamma ** (t - tau) for tau in range(1, t + 1)])\n",
    "    \n",
    "    delayed_discounted_counts_state = np.zeros(num_plays_state.shape[0])\n",
    "    for k in range(num_plays_state.shape[0]):\n",
    "        for j in range(t - Delay):\n",
    "            delayed_discounted_counts_state[k] += num_plays_state[k,:,j]*(gamma**(t-j))\n",
    "\n",
    "\n",
    "    emp_avg_reward_state_temp = np.zeros(num_plays_state.shape[0])\n",
    "    for k in range(num_plays_state.shape[0]):\n",
    "        for j in range(t-Delay):\n",
    "            emp_avg_reward_state_temp[k] = emp_avg_reward_state_temp[k] + inst_reward[k,j]*num_plays_state[k,:,j]*(gamma**(t-j))\n",
    "\n",
    "    array_indices_of_chosen_base_arms = np.where(x!=0)\n",
    "    for i in range(array_indices_of_chosen_base_arms[0].shape[0]):\n",
    "        j = array_indices_of_chosen_base_arms[0][i]\n",
    "        \n",
    "        if delayed_discounted_counts_state[j] != 0 and t >= Delay:\n",
    "            emp_avg_reward_state_builtin[j,0] = emp_avg_reward_state_temp[j] / (delayed_discounted_counts_state[j])\n",
    "            \n",
    "            inside_sqrt = (xi * s * np.log(m_t_gamma)) / (delayed_discounted_counts_state[j]) \n",
    "            if inside_sqrt < 0:\n",
    "                raise ValueError('UCB calculation produced nan value, because inside sqrt is ', inside_sqrt)\n",
    "\n",
    "            UCB_state_temp = emp_avg_reward_state_builtin[j, 0] + np.sqrt(inside_sqrt) # UCB calculations for the chosen arms\n",
    "            UCB_state_builtin[j, 0] = UCB_state_temp\n",
    "            # print((xi *s*np.log(t+1)) / (delayed_discounted_counts_state[j]))\n",
    "        else:\n",
    "            pass\n",
    "#             print(\"The given base arm is not pulled yet\")\n",
    "#             print(\"Its UCB is:\", UCB_state_builtin[j,0])\n",
    "#             print(delayed_discounted_counts_state[j])\n",
    "    \n",
    "    array_indices_of_not_chosen_base_arms = np.where(x==0)\n",
    "    for i in range(array_indices_of_not_chosen_base_arms[0].shape[0]):\n",
    "        k = array_indices_of_not_chosen_base_arms[0][i]\n",
    "        \n",
    "        if delayed_discounted_counts_state[k] != 0 and t >= Delay:\n",
    "            #TODO Added this line, why did it work without it?\n",
    "            # Without this line for all not-chosen arms had empirical reward zero\n",
    "            emp_avg_reward_state_builtin[k,0] = emp_avg_reward_state_temp[k] / (delayed_discounted_counts_state[k])\n",
    "            \n",
    "            inside_sqrt = (xi * s * np.log(m_t_gamma)) / (delayed_discounted_counts_state[k]) \n",
    "            if inside_sqrt < 0:\n",
    "                raise ValueError('UCB calculation produced nan value, because inside sqrt is ', inside_sqrt)\n",
    "            UCB_state_temp = emp_avg_reward_state_builtin[k,0] + np.sqrt(inside_sqrt) # UCB calculations for the non-chosen arms \n",
    "            UCB_state_builtin[k,0] = UCB_state_temp\n",
    "    #         print((xi*s*np.log(t+1))) # / (delayed_discounted_counts_state[k])\n",
    "    #         print(delayed_discounted_counts_state[k])\n",
    "        else:\n",
    "            pass\n",
    "#             print(\"The given (not selected) base arm is not pulled yet\")\n",
    "#             print(\"Its UCB is:\", UCB_state_builtin[k,0])\n",
    "#             print(delayed_discounted_counts_state[k])\n",
    "            \n",
    "    new_num_plays_state = (np.asanyarray([x])).T.astype(int) #(num_plays_state[:,:,] + )\n",
    "\n",
    "    return new_num_plays_state, emp_avg_reward_state_builtin, UCB_state_builtin\n",
    "\n"
   ]
  },
  {
   "cell_type": "code",
   "execution_count": 16,
   "metadata": {
    "id": "xh9G0f2TTJ4V"
   },
   "outputs": [],
   "source": [
    "\n",
    "def overall_reward(x, b, A):\n",
    "#b --> mean_b_gt[i,:]\n",
    "#A --> w_gt\n",
    "    assert x.shape == (nodes, 1), f\"Shape is {x.shape}\"\n",
    "    assert b.shape == x.shape, f\"Shape of b {b.shape} must be same as x.shape={x.shape}\"\n",
    "    temp_inv = np.linalg.inv(np.eye(nodes) - A)\n",
    "    temp_multiply = np.multiply(b, x)\n",
    "    temp = np.matmul(temp_inv, temp_multiply)\n",
    "    rew = np.sum(temp)\n",
    "    \n",
    "    return rew"
   ]
  },
  {
   "cell_type": "markdown",
   "metadata": {
    "id": "5aUcGXLydGu6"
   },
   "source": [
    "## Create ground truth rewards and graph, set parameters"
   ]
  },
  {
   "cell_type": "code",
   "execution_count": 17,
   "metadata": {
    "colab": {
     "base_uri": "https://localhost:8080/"
    },
    "id": "cmQS5966TJ4V",
    "outputId": "0f3f728d-9a9f-4675-ff1c-12a6f0744785"
   },
   "outputs": [
    {
     "name": "stdout",
     "output_type": "stream",
     "text": [
      "* Is the graph a DAG?  True\n",
      "The adjacency matrix is correctly set as a randomly picked DAG!\n",
      "the elements of the vector C are:   [1.         1.         1.         1.         1.         1.51236204\n",
      " 1.         1.57959755 4.46831448 1.41742508]\n",
      "[0, 1, 2, 3]\n",
      "[4, 5, 6, 7]\n",
      "[8, 9, 0, 1]\n",
      "[2, 3, 4, 5]\n",
      "[6, 7, 8, 9]\n"
     ]
    }
   ],
   "source": [
    "# Parameters of the experiment\n",
    "\n",
    "# create the graph and the B\n",
    "w_gt, C_gt = create_graph(n=nodes); # create the gt graph\n",
    "# B, mean_b_gt = instantaneous_Gaussian_rewards(maxx=0.7, minn=0.3); # create the gt 'b'\n",
    "# B, mean_b_gt = instantaneous_Gaussian_rewards_with_gap(maxx=0.7, minn=0.3);\n",
    "B, mean_b_gt = instantaneous_Bernoulli_rewards(high_interval=[0.75, 0.9], low_interval=[0.1, 0.3]);\n"
   ]
  },
  {
   "cell_type": "code",
   "execution_count": 18,
   "metadata": {
    "colab": {
     "base_uri": "https://localhost:8080/"
    },
    "id": "N7I4eeM4TJ4W",
    "outputId": "6bc09ad2-b344-46f8-c7bd-32aadb541a34"
   },
   "outputs": [
    {
     "name": "stdout",
     "output_type": "stream",
     "text": [
      "the best overall reward is  [3.5048015  4.67886735 6.53547161 3.81096602 7.29653535]\n",
      "Density of the ground truth graph is:  0.08888888888888889\n"
     ]
    }
   ],
   "source": [
    "#TODO Oracle should see t or (t-Delay) data points?\n",
    "\n",
    "# calculate the best action for the given graph and 'b'\n",
    "best_action_choice = np.zeros((len(change_points), nodes, 1))\n",
    "for i in range(len(change_points)):\n",
    "    best_action_choice[i,:,:] = Best_action_func_new(A=w_gt, b=mean_b_gt[i, :], s=super_arm_sparsity)\n",
    "\n",
    "# calculate the best reward for the best action so that later use it in regret calculation\n",
    "best_expected_reward = np.zeros(len(change_points))\n",
    "for i in range(len(change_points)):\n",
    "    best_expected_reward[i] = overall_reward(x=best_action_choice[i,:], b=mean_b_gt[i,:], A=w_gt)\n",
    "\n",
    "print('the best overall reward is ', best_expected_reward)\n",
    "print('Density of the ground truth graph is: ',(np.count_nonzero(w_gt))/((nodes*nodes)-nodes))\n"
   ]
  },
  {
   "cell_type": "code",
   "execution_count": null,
   "metadata": {},
   "outputs": [],
   "source": []
  },
  {
   "cell_type": "code",
   "execution_count": 19,
   "metadata": {
    "colab": {
     "base_uri": "https://localhost:8080/",
     "height": 449
    },
    "id": "ZPurAfcITJ4W",
    "outputId": "e575c810-adf9-4485-bae6-5a7573422ae3"
   },
   "outputs": [
    {
     "data": {
      "image/png": "[encoded data removed]",
      "text/plain": [
       "<Figure size 1100x500 with 1 Axes>"
      ]
     },
     "metadata": {},
     "output_type": "display_data"
    }
   ],
   "source": [
    "plot_array = np.zeros((nodes, rounds))\n",
    "for i in range(0, len(change_points)):\n",
    "    \n",
    "    for j in range(rounds):\n",
    "        if j == change_points[i]:\n",
    "            if j == change_points[len(change_points)-1]:\n",
    "                for k in range(nodes):\n",
    "                    plot_array[k,j:rounds] = mean_b_gt[i,k]\n",
    "            else:\n",
    "                for k in range(nodes):\n",
    "                    plot_array[k,j:change_points[i+1]] = mean_b_gt[i,k]\n",
    "\n",
    "fig, ax = plt.subplots(1,1, figsize=(11,5))\n",
    "for arm in range(nodes):\n",
    "#     expected_gain = BETA * mean_rewards[:, arm] \n",
    "    ax.plot(plot_array[arm,:], label=f\"Node {arm+1}\", linestyle=':', linewidth=5)\n",
    "#     print(f\"Min expected reward for arm {arm+1}: {min(expected_gain)}\")\n",
    "\n",
    "    \n",
    "extraticks = change_points\n",
    "plt.xticks(extraticks, fontsize=16) #, rotation=35\n",
    "\n",
    "plt.yticks(fontsize=16)\n",
    "\n",
    "ax.set_xlabel('Rounds', fontsize=20)\n",
    "ax.set_ylabel(fr\"Mean Instantaneous Reward\", fontsize=20)\n",
    "\n",
    "lgd = ax.legend(loc=9, ncol=5, bbox_to_anchor=(0.5, 1.4), prop={'size': 15})\n",
    "\n",
    "plt.show()"
   ]
  },
  {
   "cell_type": "code",
   "execution_count": 20,
   "metadata": {
    "id": "XuUMkgCPTJ4W"
   },
   "outputs": [],
   "source": [
    "# s is the sparsity of the chosen action vector \n",
    "# nodes is the number of arms \n",
    "\n",
    "def initial_rounds_actions(nodes,s):\n",
    "\n",
    "    initial_actions = np.zeros((nodes,nodes))\n",
    "    initial_actions = initial_actions + np.eye(nodes)\n",
    "    for i in range(nodes):\n",
    "        if i <= s:\n",
    "            for j in range(i):\n",
    "                initial_actions[i,j] = 1\n",
    "        elif i > s:\n",
    "            temp = rand_binary_array(number_of_chosen_arms=s-1, n=i-1)\n",
    "            temp1 = np.nonzero(temp)\n",
    "            for j in range(temp1[0].shape[0]):\n",
    "                temp2 = temp1[0][j]\n",
    "                initial_actions[i,temp2] = 1\n",
    "            \n",
    "#     np.random.shuffle(initial_actions) #!\n",
    "    needed_initial_matrix=initial_actions.T\n",
    "    \n",
    "    return needed_initial_matrix"
   ]
  },
  {
   "cell_type": "code",
   "execution_count": null,
   "metadata": {
    "id": "_XKXsd37TJ4X"
   },
   "outputs": [],
   "source": []
  },
  {
   "cell_type": "markdown",
   "metadata": {
    "id": "pyZ3dvhMcAoJ"
   },
   "source": [
    "## NDC-SEM Tuning"
   ]
  },
  {
   "cell_type": "code",
   "execution_count": 21,
   "metadata": {},
   "outputs": [],
   "source": [
    "xis = [1e-21, 1e-19, 1e-18, 1e-16, 1e-14, \n",
    "       1e-13, 1e-12, 1e-11, 5e-11, 7e-11, 1e-10, 3e-10, 5e-10, 7e-10, 1e-9, 3e-10, 5e-10, 1e-8, 1e-7]\n",
    "gammas = [0.96, 0.97, 0.98, 0.985, 0.99, 0.995]"
   ]
  },
  {
   "cell_type": "code",
   "execution_count": 22,
   "metadata": {},
   "outputs": [
    {
     "name": "stdout",
     "output_type": "stream",
     "text": [
      "Size of param grid: 114\n"
     ]
    }
   ],
   "source": [
    "grid_size = len(list(itertools.product(xis, gammas)))\n",
    "print(f\"Size of param grid: {grid_size}\")"
   ]
  },
  {
   "cell_type": "code",
   "execution_count": 23,
   "metadata": {},
   "outputs": [
    {
     "name": "stdout",
     "output_type": "stream",
     "text": [
      "Estimated total time: 45600s = 760.0m = 12.666666666666666h\n"
     ]
    }
   ],
   "source": [
    "estimated_time = grid_size * 400\n",
    "print(f\"Estimated total time: {estimated_time}s = {estimated_time/60}m = {estimated_time/3600}h\")"
   ]
  },
  {
   "cell_type": "code",
   "execution_count": 24,
   "metadata": {
    "scrolled": true
   },
   "outputs": [
    {
     "name": "stdout",
     "output_type": "stream",
     "text": [
      "Evaluating parameters 1e-21,0.96\n"
     ]
    },
    {
     "name": "stderr",
     "output_type": "stream",
     "text": [
      "/home/steven/.local/lib/python3.8/site-packages/cvxpy/problems/problem.py:1407: UserWarning: Solution may be inaccurate. Try another solver, adjusting the solver settings, or solve with verbose=True for more information.\n",
      "  warnings.warn(\n"
     ]
    },
    {
     "name": "stdout",
     "output_type": "stream",
     "text": [
      "Round: 500, t: 2024-06-20 10:25:31.908787\n",
      "\n",
      "Round: 1000, t: 2024-06-20 10:25:53.846135\n",
      "\n",
      "Round: 1500, t: 2024-06-20 10:26:46.461698\n",
      "\n",
      "Round: 2000, t: 2024-06-20 10:28:00.944057\n",
      "\n",
      "Round: 2500, t: 2024-06-20 10:29:31.346810\n",
      "\n",
      "Round: 3000, t: 2024-06-20 10:31:16.038114\n",
      "\n",
      "Round: 3500, t: 2024-06-20 10:33:12.589733\n",
      "\n",
      "Round: 4000, t: 2024-06-20 10:35:19.467159\n",
      "\n",
      "Round: 4500, t: 2024-06-20 10:37:49.120978\n",
      "\n",
      "Evaluating parameters 1e-21,0.96, took 1042.05\n",
      "Evaluating parameters 1e-21,0.97\n",
      "Round: 500, t: 2024-06-20 10:43:41.134893\n",
      "\n",
      "Round: 1000, t: 2024-06-20 10:44:11.924518\n",
      "\n",
      "Round: 1500, t: 2024-06-20 10:45:11.008201\n",
      "\n",
      "Round: 2000, t: 2024-06-20 10:46:30.114731\n",
      "\n",
      "Round: 2500, t: 2024-06-20 10:48:01.287254\n",
      "\n",
      "Round: 3000, t: 2024-06-20 10:49:44.727982\n",
      "\n",
      "Round: 3500, t: 2024-06-20 10:51:43.437651\n",
      "\n",
      "Round: 4000, t: 2024-06-20 10:53:57.013892\n",
      "\n",
      "Round: 4500, t: 2024-06-20 10:56:22.596968\n",
      "\n",
      "Evaluating parameters 1e-21,0.97, took 1104.15\n",
      "Evaluating parameters 1e-21,0.98\n",
      "Round: 500, t: 2024-06-20 11:01:35.845642\n",
      "\n",
      "Round: 1000, t: 2024-06-20 11:02:01.831470\n",
      "\n",
      "Round: 1500, t: 2024-06-20 11:03:00.173104\n",
      "\n",
      "Round: 2000, t: 2024-06-20 11:04:17.847972\n",
      "\n",
      "Round: 2500, t: 2024-06-20 11:05:50.526722\n",
      "\n",
      "Round: 3000, t: 2024-06-20 11:07:38.029834\n",
      "\n",
      "Round: 3500, t: 2024-06-20 11:09:39.846177\n",
      "\n",
      "Round: 4000, t: 2024-06-20 11:11:57.261645\n",
      "\n",
      "Round: 4500, t: 2024-06-20 11:14:24.993378\n",
      "\n",
      "Evaluating parameters 1e-21,0.98, took 1091.67\n",
      "Evaluating parameters 1e-21,0.985\n",
      "Round: 500, t: 2024-06-20 11:19:48.325738\n",
      "\n",
      "Round: 1000, t: 2024-06-20 11:20:14.660125\n",
      "\n",
      "Round: 1500, t: 2024-06-20 11:21:13.163746\n",
      "\n",
      "Round: 2000, t: 2024-06-20 11:22:32.254981\n",
      "\n",
      "Round: 2500, t: 2024-06-20 11:24:01.889078\n",
      "\n",
      "Round: 3000, t: 2024-06-20 11:25:53.594621\n",
      "\n",
      "Round: 3500, t: 2024-06-20 11:28:04.422635\n",
      "\n",
      "Round: 4000, t: 2024-06-20 11:30:15.983719\n",
      "\n",
      "Round: 4500, t: 2024-06-20 11:32:43.731892\n",
      "\n",
      "Evaluating parameters 1e-21,0.985, took 1099.24\n",
      "Evaluating parameters 1e-21,0.99\n",
      "Round: 500, t: 2024-06-20 11:39:01.584424\n",
      "\n",
      "Round: 1000, t: 2024-06-20 11:39:30.297346\n",
      "\n",
      "Round: 1500, t: 2024-06-20 11:40:29.774479\n",
      "\n",
      "Round: 2000, t: 2024-06-20 11:41:47.207583\n",
      "\n",
      "Round: 2500, t: 2024-06-20 11:43:18.426546\n",
      "\n",
      "Round: 3000, t: 2024-06-20 11:45:03.294018\n",
      "\n"
     ]
    },
    {
     "ename": "KeyboardInterrupt",
     "evalue": "",
     "output_type": "error",
     "traceback": [
      "\u001b[0;31m---------------------------------------------------------------------------\u001b[0m",
      "\u001b[0;31mKeyboardInterrupt\u001b[0m                         Traceback (most recent call last)",
      "Cell \u001b[0;32mIn [24], line 95\u001b[0m\n\u001b[1;32m     92\u001b[0m             \u001b[38;5;28mprint\u001b[39m(\u001b[38;5;124mf\u001b[39m\u001b[38;5;124m\"\u001b[39m\u001b[38;5;124mRound: \u001b[39m\u001b[38;5;132;01m{\u001b[39;00mi\u001b[38;5;132;01m}\u001b[39;00m\u001b[38;5;124m, t: \u001b[39m\u001b[38;5;132;01m{\u001b[39;00mdatetime\u001b[38;5;241m.\u001b[39mdatetime\u001b[38;5;241m.\u001b[39mnow()\u001b[38;5;132;01m}\u001b[39;00m\u001b[38;5;130;01m\\n\u001b[39;00m\u001b[38;5;124m\"\u001b[39m)\n\u001b[1;32m     93\u001b[0m \u001b[38;5;66;03m#         print(f'collected reward round {i} is: ', collected_expected_rewards[0, i])\u001b[39;00m\n\u001b[0;32m---> 95\u001b[0m         num_plays_state[:,:,i], emp_avg_reward_state[:,:,i], UCB_state[:,:,i] \u001b[38;5;241m=\u001b[39m \u001b[43mUCB_func\u001b[49m\u001b[43m(\u001b[49m\n\u001b[1;32m     96\u001b[0m \u001b[43m          \u001b[49m\u001b[43mt\u001b[49m\u001b[38;5;241;43m=\u001b[39;49m\u001b[43mi\u001b[49m\u001b[43m,\u001b[49m\u001b[43m \u001b[49m\u001b[43mx\u001b[49m\u001b[38;5;241;43m=\u001b[39;49m\u001b[43mx_i\u001b[49m\u001b[43m,\u001b[49m\u001b[43m \u001b[49m\u001b[43mnum_plays_state\u001b[49m\u001b[38;5;241;43m=\u001b[39;49m\u001b[43mnum_plays_state\u001b[49m\u001b[43m,\u001b[49m\n\u001b[1;32m     97\u001b[0m \u001b[43m          \u001b[49m\u001b[43minst_reward\u001b[49m\u001b[38;5;241;43m=\u001b[39;49m\u001b[43mB\u001b[49m\u001b[43m,\u001b[49m\u001b[43m \u001b[49m\u001b[43mxi\u001b[49m\u001b[38;5;241;43m=\u001b[39;49m\u001b[43mxi\u001b[49m\u001b[43m,\u001b[49m\u001b[43m \u001b[49m\u001b[43ms\u001b[49m\u001b[38;5;241;43m=\u001b[39;49m\u001b[43ms\u001b[49m\u001b[43m,\u001b[49m\u001b[43m \u001b[49m\u001b[43mgamma\u001b[49m\u001b[38;5;241;43m=\u001b[39;49m\u001b[43mgamma\u001b[49m\u001b[43m,\u001b[49m\u001b[43m \u001b[49m\u001b[43mDelay\u001b[49m\u001b[38;5;241;43m=\u001b[39;49m\u001b[43mDelay\u001b[49m\u001b[43m,\u001b[49m\n\u001b[1;32m     98\u001b[0m \u001b[43m        \u001b[49m\u001b[43m)\u001b[49m\n\u001b[1;32m     99\u001b[0m     \u001b[38;5;28mprint\u001b[39m(\u001b[38;5;124mf\u001b[39m\u001b[38;5;124m\"\u001b[39m\u001b[38;5;124mEvaluating parameters \u001b[39m\u001b[38;5;132;01m{\u001b[39;00mxi\u001b[38;5;132;01m}\u001b[39;00m\u001b[38;5;124m,\u001b[39m\u001b[38;5;132;01m{\u001b[39;00mgamma\u001b[38;5;132;01m}\u001b[39;00m\u001b[38;5;124m, took \u001b[39m\u001b[38;5;132;01m{\u001b[39;00mtime() \u001b[38;5;241m-\u001b[39m start\u001b[38;5;132;01m:\u001b[39;00m\u001b[38;5;124m.2f\u001b[39m\u001b[38;5;132;01m}\u001b[39;00m\u001b[38;5;124m\"\u001b[39m)\n\u001b[1;32m    101\u001b[0m     regrets[(xi,gamma)] \u001b[38;5;241m=\u001b[39m np\u001b[38;5;241m.\u001b[39msum(expected_regret)\n",
      "Cell \u001b[0;32mIn [15], line 14\u001b[0m, in \u001b[0;36mUCB_func\u001b[0;34m(t, x, num_plays_state, inst_reward, xi, s, gamma, Delay)\u001b[0m\n\u001b[1;32m     12\u001b[0m \u001b[38;5;28;01mfor\u001b[39;00m k \u001b[38;5;129;01min\u001b[39;00m \u001b[38;5;28mrange\u001b[39m(num_plays_state\u001b[38;5;241m.\u001b[39mshape[\u001b[38;5;241m0\u001b[39m]):\n\u001b[1;32m     13\u001b[0m     \u001b[38;5;28;01mfor\u001b[39;00m j \u001b[38;5;129;01min\u001b[39;00m \u001b[38;5;28mrange\u001b[39m(t \u001b[38;5;241m-\u001b[39m Delay):\n\u001b[0;32m---> 14\u001b[0m         delayed_discounted_counts_state[k] \u001b[38;5;241m+\u001b[39m\u001b[38;5;241m=\u001b[39m num_plays_state[k,:,j]\u001b[38;5;241m*\u001b[39m(gamma\u001b[38;5;241m*\u001b[39m\u001b[38;5;241m*\u001b[39m(t\u001b[38;5;241m-\u001b[39mj))\n\u001b[1;32m     17\u001b[0m emp_avg_reward_state_temp \u001b[38;5;241m=\u001b[39m np\u001b[38;5;241m.\u001b[39mzeros(num_plays_state\u001b[38;5;241m.\u001b[39mshape[\u001b[38;5;241m0\u001b[39m])\n\u001b[1;32m     18\u001b[0m \u001b[38;5;28;01mfor\u001b[39;00m k \u001b[38;5;129;01min\u001b[39;00m \u001b[38;5;28mrange\u001b[39m(num_plays_state\u001b[38;5;241m.\u001b[39mshape[\u001b[38;5;241m0\u001b[39m]):\n",
      "\u001b[0;31mKeyboardInterrupt\u001b[0m: "
     ]
    }
   ],
   "source": [
    "total_start = time()\n",
    "regrets = {}\n",
    "\n",
    "for (xi, gamma) in itertools.product(xis, gammas):\n",
    "    print(f\"Evaluating parameters {xi},{gamma}\")\n",
    "    start = time()\n",
    "    \n",
    "    np.random.seed(42)\n",
    "    \n",
    "    all_actions_taken = initial_rounds_actions(nodes=nodes, s=super_arm_sparsity)\n",
    "    initial_rounds = nodes\n",
    "\n",
    "    f_measure = np.zeros((1, rounds)) \n",
    "    collected_expected_rewards = np.zeros((1, rounds))\n",
    "    collected_instantaneous_rewards = np.zeros((1, rounds))\n",
    "    instantaneous_regret = np.zeros((1, rounds))\n",
    "    expected_regret = np.zeros((1, rounds))\n",
    "\n",
    "    num_plays_state = np.zeros((nodes, 1, rounds)) \n",
    "    emp_avg_reward_state = np.zeros((nodes, 1, rounds)) \n",
    "    UCB_state = np.ones((nodes, 1, rounds)) \n",
    "    \n",
    "    ################ initial rounds ######################\n",
    "\n",
    "    for i in range(0, initial_rounds):\n",
    "        ch_p_ind = change_point_index(i)\n",
    "\n",
    "        base_reward_i = np.transpose(np.asarray([B[:,i]]))\n",
    "        x_i = np.transpose(np.asarray([all_actions_taken[:, i]]))  \n",
    "        z_i = np.multiply(base_reward_i, x_i)\n",
    "\n",
    "        y_i = np.matmul(C_gt, z_i)\n",
    "        if i == 0:\n",
    "            Y = y_i\n",
    "        else:\n",
    "            Y = np.concatenate((Y, y_i),axis=1)\n",
    "\n",
    "        collected_expected_rewards[0,i] = overall_reward(x=x_i, b=mean_b_gt[ch_p_ind], A=w_gt) \n",
    "        collected_instantaneous_rewards[0,i] = overall_reward(x=x_i, b=base_reward_i, A=w_gt)\n",
    "\n",
    "        expected_regret[0,i] = best_expected_reward[ch_p_ind] - collected_expected_rewards[0,i]\n",
    "        instantaneous_regret[0,i] = overall_reward(\n",
    "            x=best_action_choice[ch_p_ind], b=base_reward_i, A=w_gt\n",
    "        ) - collected_instantaneous_rewards[0, i]\n",
    "\n",
    "        num_plays_state[:,:,i], emp_avg_reward_state[:,:,i], UCB_state[:,:,i] = UCB_func(\n",
    "          t=i, x=all_actions_taken[:, i], num_plays_state=num_plays_state,\n",
    "          inst_reward=B, xi=xi, s=s, gamma=gamma, Delay=Delay,\n",
    "        )\n",
    "\n",
    "#         print('collected reward of round ', i , ' is ', collected_expected_rewards[0,i])\n",
    "        \n",
    "    for i in range(initial_rounds, rounds):\n",
    "        ch_p_ind = change_point_index(i)\n",
    "\n",
    "        # Matrix which columns are z_t values up to current moment. \n",
    "        # Truncated matrix with up to (t - D) is calculated inside `graph_learning`\n",
    "        Z_t = np.multiply(all_actions_taken, B[:, 0:all_actions_taken.shape[1]])\n",
    "\n",
    "        if f_measure[0, i - 1] == 1:\n",
    "            # Estimated adjacency matrix is good enough in previous round, no need to re-estimate it.\n",
    "            f_measure[0, i] = f_measure[0, i - 1]\n",
    "        else:     \n",
    "            w_hat, f_measure[0, i], best_lambda = graph_learning(\n",
    "                current_time=i, A_gt=w_gt, observ=Y, perturb=Z_t, \n",
    "                nodes=nodes, skiped=skiped, best_lambda=best_lambda, Delay=Delay,\n",
    "            )\n",
    "            if f_measure[0,i]>=0.9:\n",
    "                skiped = 1\n",
    "            elif f_measure[0,i]<0.9:\n",
    "                skiped = 0\n",
    "\n",
    "        base_reward_i = np.transpose(np.asarray([B[:,i]]))\n",
    "        x_i = Best_action_func_new(A=w_hat, b=UCB_state[:,:,i - 1], s=super_arm_sparsity)\n",
    "        all_actions_taken = np.concatenate((all_actions_taken, x_i), axis=1)\n",
    "\n",
    "        z_i = np.multiply(base_reward_i, x_i)\n",
    "        y_i = np.matmul(C_gt, z_i)\n",
    "        Y = np.concatenate((Y, y_i), axis=1)\n",
    "\n",
    "        collected_expected_rewards[0, i] = overall_reward(x=x_i, b=mean_b_gt[ch_p_ind], A=w_gt)\n",
    "        collected_instantaneous_rewards[0, i] = overall_reward(x=x_i, b=base_reward_i, A=w_gt)\n",
    "        expected_regret[0,i] = best_expected_reward[ch_p_ind] - collected_expected_rewards[0, i]\n",
    "        instantaneous_regret[0,i] = overall_reward(\n",
    "            x=best_action_choice[ch_p_ind], b=base_reward_i, A=w_gt\n",
    "        ) - collected_instantaneous_rewards[0,i]\n",
    "\n",
    "        if expected_regret[0, i] < 0:\n",
    "            raise ValueError()\n",
    "\n",
    "        if i % 500 == 0:\n",
    "            print(f\"Round: {i}, t: {datetime.datetime.now()}\\n\")\n",
    "#         print(f'collected reward round {i} is: ', collected_expected_rewards[0, i])\n",
    "\n",
    "        num_plays_state[:,:,i], emp_avg_reward_state[:,:,i], UCB_state[:,:,i] = UCB_func(\n",
    "          t=i, x=x_i, num_plays_state=num_plays_state,\n",
    "          inst_reward=B, xi=xi, s=s, gamma=gamma, Delay=Delay,\n",
    "        )\n",
    "    print(f\"Evaluating parameters {xi},{gamma}, took {time() - start:.2f}\")\n",
    "    \n",
    "    regrets[(xi,gamma)] = np.sum(expected_regret)\n",
    "\n",
    "print(f\"Total tuning took {time() - total_start:.2f} seconds\")"
   ]
  },
  {
   "cell_type": "code",
   "execution_count": null,
   "metadata": {},
   "outputs": [],
   "source": []
  },
  {
   "cell_type": "code",
   "execution_count": 24,
   "metadata": {},
   "outputs": [],
   "source": [
    "# delay 500\n",
    "#[((1e-09, 0.99), 5008.645847945581),\n",
    "#  ((1e-10, 0.99), 5129.9485460918495),\n",
    "#  ((5e-09, 0.99), 5451.179901066141),\n",
    "#  ((1e-08, 0.99), 5864.245914324907),\n",
    "#  ((1e-11, 0.99), 5926.710466155537),\n",
    "#  ((1e-07, 0.99), 6073.589584631371),\n",
    "#  ((5e-08, 0.99), 6306.374685272665),\n",
    "#  ((1e-06, 0.99), 6424.077428061466),\n",
    "#  ((1e-11, 0.97), 6577.132458502676),\n",
    "#  ((1e-10, 0.999), 7127.369106949468),\n",
    "#  ((1e-09, 0.999), 7127.369106949468),\n",
    "#  ((1e-11, 0.999), 7127.492586116505),"
   ]
  },
  {
   "cell_type": "code",
   "execution_count": null,
   "metadata": {},
   "outputs": [],
   "source": [
    "sorted(regrets.items(), key=lambda x: x[1])"
   ]
  },
  {
   "cell_type": "code",
   "execution_count": null,
   "metadata": {},
   "outputs": [],
   "source": []
  }
 ],
 "metadata": {
  "colab": {
   "collapsed_sections": [],
   "name": "Synthetic.ipynb",
   "provenance": [],
   "toc_visible": true
  },
  "kernelspec": {
   "display_name": "Python 3 (ipykernel)",
   "language": "python",
   "name": "python3"
  },
  "language_info": {
   "codemirror_mode": {
    "name": "ipython",
    "version": 3
   },
   "file_extension": ".py",
   "mimetype": "text/x-python",
   "name": "python",
   "nbconvert_exporter": "python",
   "pygments_lexer": "ipython3",
   "version": "3.8.10"
  },
  "toc": {
   "base_numbering": 1,
   "nav_menu": {},
   "number_sections": true,
   "sideBar": true,
   "skip_h1_title": false,
   "title_cell": "Table of Contents",
   "title_sidebar": "Contents",
   "toc_cell": false,
   "toc_position": {},
   "toc_section_display": true,
   "toc_window_display": false
  }
 },
 "nbformat": 4,
 "nbformat_minor": 4
}
